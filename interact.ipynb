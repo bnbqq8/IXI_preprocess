{
 "cells": [
  {
   "cell_type": "code",
   "execution_count": 1,
   "metadata": {},
   "outputs": [],
   "source": [
    "import SimpleITK as sitk\n",
    "\n",
    "T1_path = \"../IXI_dataset/IXI_registrated/IXI230-IOP-0869/T1.nii.gz\"\n",
    "T2_path = \"../IXI_dataset/IXI_registrated/IXI230-IOP-0869/T2.nii.gz\"\n",
    "\n",
    "moving_image = sitk.ReadImage(str(T1_path), sitk.sitkFloat32)\n",
    "fixed_image = sitk.ReadImage(str(T2_path), sitk.sitkFloat32)"
   ]
  },
  {
   "cell_type": "code",
   "execution_count": 4,
   "metadata": {},
   "outputs": [
    {
     "data": {
      "application/vnd.jupyter.widget-view+json": {
       "model_id": "bdbf8183945647e6af9df44effc059c2",
       "version_major": 2,
       "version_minor": 0
      },
      "text/plain": [
       "interactive(children=(IntSlider(value=86, description='fixed_image_z', max=173), IntSlider(value=93, descripti…"
      ]
     },
     "metadata": {},
     "output_type": "display_data"
    }
   ],
   "source": [
    "%matplotlib inline\n",
    "import matplotlib.pyplot as plt\n",
    "from ipywidgets import interact,fixed\n",
    "\n",
    "def display_images(fixed_image_z, moving_image_z, fixed_npa, moving_npa):\n",
    "    # Create a figure with two subplots and the specified size.\n",
    "    plt.subplots(1, 2, figsize=(10, 8))\n",
    "\n",
    "    # Draw the fixed image in the first subplot.\n",
    "    plt.subplot(1, 2, 1)\n",
    "    plt.imshow(fixed_npa[fixed_image_z, :, :], cmap=plt.cm.Greys_r)\n",
    "    plt.title(\"fixed image\")\n",
    "    plt.axis(\"off\")\n",
    "\n",
    "    # Draw the moving image in the second subplot.\n",
    "    plt.subplot(1, 2, 2)\n",
    "    plt.imshow(moving_npa[moving_image_z, :, :], cmap=plt.cm.Greys_r)\n",
    "    plt.title(\"moving image\")\n",
    "    plt.axis(\"off\")\n",
    "\n",
    "    plt.show()\n",
    "\n",
    "\n",
    "interact(\n",
    "    display_images,\n",
    "    fixed_image_z=(0, fixed_image.GetSize()[2] - 1),\n",
    "    moving_image_z=(0, moving_image.GetSize()[2] - 1),\n",
    "    fixed_npa=fixed(sitk.GetArrayViewFromImage(fixed_image)),\n",
    "    moving_npa=fixed(sitk.GetArrayViewFromImage(moving_image)),\n",
    ");\n"
   ]
  },
  {
   "cell_type": "code",
   "execution_count": 5,
   "metadata": {},
   "outputs": [
    {
     "data": {
      "application/vnd.jupyter.widget-view+json": {
       "model_id": "04573e68b14749ada47d36d4ebc20eaa",
       "version_major": 2,
       "version_minor": 0
      },
      "text/plain": [
       "interactive(children=(IntSlider(value=86, description='image_z', max=173), FloatSlider(value=0.5, description=…"
      ]
     },
     "metadata": {},
     "output_type": "display_data"
    }
   ],
   "source": [
    "import numpy as np\n",
    "def display_images_with_alpha(image_z, alpha, fixed, moving):\n",
    "    # img = (1.0 - alpha) * fixed[:, :, image_z] + alpha * moving[:, :, image_z]\n",
    "    # plt.imshow(sitk.GetArrayViewFromImage(img), cmap=plt.cm.Greys_r)\n",
    "    # plt.axis(\"off\")\n",
    "    # plt.show()\n",
    "    # 创建 RGB 图像\n",
    "    # fixed_slice = fixed[:, :, image_z]\n",
    "    # moving_slice = moving[:, :, image_z]\n",
    "    \n",
    "    # 将 fixed 映射到绿色通道，moving 映射到红色通道\n",
    "    shape = sitk.GetArrayViewFromImage(fixed[:, :, image_z]).shape\n",
    "    \n",
    "    fixed_slice = sitk.GetArrayFromImage(fixed[:, :, image_z])\n",
    "    moving_slice = sitk.GetArrayFromImage(moving[:, :, image_z])\n",
    "    # 归一化\n",
    "    fixed_slice = fixed_slice / np.max(fixed_slice)\n",
    "    moving_slice = moving_slice / np.max(moving_slice)\n",
    "    \n",
    "    img = np.zeros((shape[0], shape[1], 3))\n",
    "    img[:, :, 1] = (1.0 - alpha) * fixed_slice  # 绿色通道\n",
    "    img[:, :, 0] = alpha * moving_slice         # 红色通道\n",
    "    \n",
    "    plt.imshow(img)\n",
    "    plt.axis(\"off\")\n",
    "    plt.show()\n",
    "\n",
    "initial_transform=sitk.Transform(3, sitk.sitkIdentity)\n",
    "\n",
    "# initial_transform = sitk.CenteredTransformInitializer(\n",
    "#     fixed_image,\n",
    "#     moving_image,\n",
    "#     sitk.Euler3DTransform(),\n",
    "#     sitk.CenteredTransformInitializerFilter.GEOMETRY,\n",
    "# )\n",
    "\n",
    "moving_resampled = sitk.Resample(\n",
    "    moving_image,\n",
    "    fixed_image,\n",
    "    initial_transform,\n",
    "    sitk.sitkLinear,\n",
    "    0.0,\n",
    "    moving_image.GetPixelID(),\n",
    ")\n",
    "\n",
    "interact(\n",
    "    display_images_with_alpha,\n",
    "    image_z=(0, fixed_image.GetSize()[2] - 1),\n",
    "    alpha=(0.0, 1.0, 0.05),\n",
    "    fixed=fixed(fixed_image),\n",
    "    moving=fixed(moving_resampled),\n",
    ");"
   ]
  },
  {
   "cell_type": "code",
   "execution_count": null,
   "metadata": {},
   "outputs": [],
   "source": [
    "# initial_transform = sitk.CenteredTransformInitializer(\n",
    "#     fixed_image,\n",
    "#     moving_image,\n",
    "#     sitk.Euler3DTransform(),\n",
    "#     sitk.CenteredTransformInitializerFilter.GEOMETRY,\n",
    "# )\n",
    "\n",
    "# moving_resampled2 = sitk.Resample(\n",
    "#     moving_resampled,\n",
    "#     fixed_image,\n",
    "#     initial_transform,\n",
    "#     sitk.sitkLinear,\n",
    "#     0.0,\n",
    "#     moving_resampled.GetPixelID(),\n",
    "# )\n",
    "\n",
    "# interact(\n",
    "#     display_images_with_alpha,\n",
    "#     image_z=(0, fixed_image.GetSize()[2] - 1),\n",
    "#     alpha=(0.0, 1.0, 0.05),\n",
    "#     fixed=fixed(fixed_image),\n",
    "#     moving=fixed(moving_resampled2),\n",
    "# );"
   ]
  },
  {
   "cell_type": "code",
   "execution_count": null,
   "metadata": {},
   "outputs": [
    {
     "name": "stdout",
     "output_type": "stream",
     "text": [
      "NMI1:  (0.2786630792864804, 0.12845533266763437)\n",
      "NMI2:  (0.5667728137196146, 0.28220584681996363)\n",
      "NMI3:  (1.8711607411185749, 0.9999999999999999)\n"
     ]
    }
   ],
   "source": [
    "#NMI (custom)\n",
    "import numpy as np\n",
    "from sklearn import metrics\n",
    "def mutual_information(moving_image, fixed_image, nbins=64):\n",
    "    \"\"\"\n",
    "    计算两幅图像之间的归一化互信息 (NMI)。\n",
    "    \n",
    "    参数:\n",
    "      moving_image: SimpleITK.Image, moving image\n",
    "      fixed_image: SimpleITK.Image, fixed image\n",
    "      nbins: 用于直方图统计的bin数量，默认64\n",
    "      \n",
    "    返回:\n",
    "      nmi: 归一化互信息\n",
    "    \"\"\"\n",
    "    # 将SimpleITK图像转换为numpy数组\n",
    "    moving_arr = sitk.GetArrayFromImage(moving_image)\n",
    "    fixed_arr  = sitk.GetArrayFromImage(fixed_image)\n",
    "    \n",
    "    # 获取最小层数\n",
    "    slice_min = min(moving_image.GetSize()[-1], fixed_image.GetSize()[-1])\n",
    "\n",
    "    # 按照 [z,y,x] 排序\n",
    "    moving_arr = moving_arr[:slice_min, :, :].ravel()\n",
    "    fixed_arr  = fixed_arr[:slice_min, :, :].ravel()\n",
    "    \n",
    "    # 计算联合直方图\n",
    "    joint_hist, moving_edges, fixed_edges = np.histogram2d(moving_arr, fixed_arr, bins=nbins)\n",
    "    \n",
    "    # 计算联合熵\n",
    "    joint_prob = joint_hist / np.sum(joint_hist)  # 归一化联合直方图\n",
    "    joint_entropy = -np.sum(joint_prob * np.log(joint_prob + 1e-10))  # 加一个小常数避免对数为零\n",
    "\n",
    "    # 计算固定图像的边缘熵\n",
    "    fixed_prob = np.sum(joint_prob, axis=0)  # 对moving图像维度求和，得到fixed图像的边缘分布\n",
    "    fixed_entropy = -np.sum(fixed_prob * np.log(fixed_prob + 1e-10))  # 加一个小常数避免对数为零\n",
    "\n",
    "    # 计算移动图像的边缘熵\n",
    "    moving_prob = np.sum(joint_prob, axis=1)  # 对fixed图像维度求和，得到moving图像的边缘分布\n",
    "    moving_entropy = -np.sum(moving_prob * np.log(moving_prob + 1e-10))  # 加一个小常数避免对数为零\n",
    "\n",
    "    # 计算互信息\n",
    "    mutual_info = fixed_entropy + moving_entropy - joint_entropy\n",
    "\n",
    "    # 归一化互信息\n",
    "    nmi = mutual_info / np.sqrt(fixed_entropy * moving_entropy)\n",
    "    return mutual_info,nmi\n",
    "\n",
    "def normalized_mutual_information(moving_image, fixed_image, nbins=64):\n",
    "    \n",
    "    \"\"\"\n",
    "    计算两幅图像之间的归一化互信息 (NMI)。\n",
    "    \n",
    "    参数:\n",
    "      moving_image: SimpleITK.Image, moving image\n",
    "      fixed_image: SimpleITK.Image, fixed image\n",
    "      nbins: 用于直方图统计的bin数量，默认64\n",
    "      \n",
    "    返回:\n",
    "      nmi: 归一化互信息\n",
    "    \"\"\"\n",
    "    # 将SimpleITK图像转换为numpy数组\n",
    "    moving_arr = sitk.GetArrayFromImage(moving_image)\n",
    "    fixed_arr  = sitk.GetArrayFromImage(fixed_image)\n",
    "    \n",
    "    # 获取最小层数\n",
    "    slice_min = min(moving_image.GetSize()[-1], fixed_image.GetSize()[-1])\n",
    "\n",
    "    # 按照 [z,y,x] 排序\n",
    "    moving_arr = moving_arr[:slice_min, :, :].ravel()\n",
    "    fixed_arr  = fixed_arr[:slice_min, :, :].ravel()\n",
    "    \n",
    "    # 计算联合直方图\n",
    "    joint_hist, moving_edges, fixed_edges = np.histogram2d(moving_arr, fixed_arr, bins=nbins)\n",
    "    \n",
    "    # # 归一化得到联合概率分布\n",
    "    # joint_prob = joint_hist / np.sum(joint_hist)\n",
    "\n",
    "    # # 根据联合直方图计算边缘直方图（概率分布）\n",
    "    # moving_prob = np.sum(joint_prob, axis=1)\n",
    "    # fixed_prob  = np.sum(joint_prob, axis=0)\n",
    "    \n",
    "    # # 定义一个小数值避免log(0)的问题\n",
    "    # eps = np.finfo(float).eps\n",
    "\n",
    "    # # 计算熵值（只对大于0的概率进行计算）\n",
    "    # H_moving = - np.sum(moving_prob[moving_prob > 0] * np.log(moving_prob[moving_prob > 0] + eps))\n",
    "    # H_fixed  = - np.sum(fixed_prob[fixed_prob > 0]  * np.log(fixed_prob[fixed_prob > 0] + eps))\n",
    "    # H_joint  = - np.sum(joint_prob[joint_prob > 0]  * np.log(joint_prob[joint_prob > 0] + eps))\n",
    "    \n",
    "    # # 归一化互信息\n",
    "    # nmi = (H_moving + H_fixed) / H_joint\n",
    "    # return nmi\n",
    "    pxy = joint_hist / float(np.sum(joint_hist))\n",
    "    px = np.sum(pxy, axis=1) # marginal for x over y\n",
    "    py = np.sum(pxy, axis=0) # marginal for y over x\n",
    "    # 计算边缘熵 Hx 与 Hy\n",
    "    # 注意：对所有概率大于0的项计算熵，避免 log(0) 出现问题\n",
    "    Hx = -np.sum(px[px > 0] * np.log(px[px > 0]))\n",
    "    Hy = -np.sum(py[py > 0] * np.log(py[py > 0]))\n",
    "\n",
    "    # 计算联合熵 Hxy，只对非零项计算\n",
    "    nzs = pxy > 0\n",
    "    Hxy = -np.sum(pxy[nzs] * np.log(pxy[nzs]))\n",
    "\n",
    "    # 使用 NMI 定义之一，这里采用 (Hx + Hy) / Hxy\n",
    "    nmi = (Hx + Hy) / Hxy\n",
    "    return nmi\n",
    "print(\"NMI1: \", mutual_information(moving_image, fixed_image))\n",
    "print(\"NMI2: \", mutual_information(moving_resampled, fixed_image))\n",
    "print(\"NMI3: \", mutual_information(fixed_image, fixed_image))\n",
    "\n",
    "# registration_method = sitk.ImageRegistrationMethod()\n",
    "# registration_method.GetMetricSamplingPercentagePerLevel()\n"
   ]
  },
  {
   "cell_type": "code",
   "execution_count": 40,
   "metadata": {},
   "outputs": [
    {
     "name": "stdout",
     "output_type": "stream",
     "text": [
      "slice_min:  174\n",
      "moving_arr.shape:  (187, 256, 256)\n"
     ]
    },
    {
     "name": "stderr",
     "output_type": "stream",
     "text": [
      "/home/czfy/.conda/envs/czfy310/lib/python3.10/site-packages/sklearn/metrics/cluster/_supervised.py:59: UserWarning: Clustering metrics expects discrete values but received continuous values for label, and continuous values for target\n",
      "  warnings.warn(msg, UserWarning)\n"
     ]
    },
    {
     "name": "stdout",
     "output_type": "stream",
     "text": [
      "NMI1:  0.9514546680167647\n",
      "slice_min:  174\n",
      "moving_arr.shape:  (174, 256, 256)\n"
     ]
    },
    {
     "name": "stderr",
     "output_type": "stream",
     "text": [
      "/home/czfy/.conda/envs/czfy310/lib/python3.10/site-packages/sklearn/metrics/cluster/_supervised.py:59: UserWarning: Clustering metrics expects discrete values but received continuous values for label, and continuous values for target\n",
      "  warnings.warn(msg, UserWarning)\n"
     ]
    },
    {
     "name": "stdout",
     "output_type": "stream",
     "text": [
      "NMI2:  0.8656445738017253\n"
     ]
    }
   ],
   "source": [
    "#NMI (sklearn)\n",
    "#NMI (custom)\n",
    "import numpy as np\n",
    "from sklearn.metrics import normalized_mutual_info_score\n",
    "\n",
    "def normalized_mutual_information(moving_image, fixed_image, nbins=50):\n",
    "    \"\"\"\n",
    "    计算两幅图像之间的归一化互信息 (NMI)。\n",
    "    \n",
    "    参数:\n",
    "      moving_image: SimpleITK.Image, moving image\n",
    "      fixed_image: SimpleITK.Image, fixed image\n",
    "      nbins: 用于直方图统计的bin数量，默认64\n",
    "      \n",
    "    返回:\n",
    "      nmi: 归一化互信息\n",
    "    \"\"\"\n",
    "    # 将SimpleITK图像转换为numpy数组\n",
    "    moving_arr = sitk.GetArrayFromImage(moving_image)\n",
    "    fixed_arr  = sitk.GetArrayFromImage(fixed_image)\n",
    "    \n",
    "    # 获取最小层数\n",
    "    slice_min = min(moving_image.GetSize()[-1], fixed_image.GetSize()[-1])\n",
    "    print(\"slice_min: \", slice_min)\n",
    "    print(\"moving_arr.shape: \", moving_arr.shape)\n",
    "\n",
    "    # 按照 [z,y,x] 排序\n",
    "    moving_arr = moving_arr[:slice_min, :, :].ravel()\n",
    "    fixed_arr  = fixed_arr[:slice_min, :, :].ravel()\n",
    "    \n",
    "    nmi = normalized_mutual_info_score(\n",
    "        moving_arr,\n",
    "        fixed_arr,\n",
    "        average_method='arithmetic',\n",
    "    )\n",
    "    return nmi\n",
    "\n",
    "print(\"NMI1: \", normalized_mutual_information(moving_image, fixed_image))\n",
    "print(\"NMI2: \", normalized_mutual_information(moving_resampled, fixed_image))"
   ]
  },
  {
   "cell_type": "code",
   "execution_count": null,
   "metadata": {},
   "outputs": [
    {
     "ename": "AttributeError",
     "evalue": "'ImageRegistrationMethod' object has no attribute 'MetricSamplingStrategy'",
     "output_type": "error",
     "traceback": [
      "\u001b[0;31m---------------------------------------------------------------------------\u001b[0m",
      "\u001b[0;31mAttributeError\u001b[0m                            Traceback (most recent call last)",
      "Cell \u001b[0;32mIn[27], line 2\u001b[0m\n\u001b[1;32m      1\u001b[0m registration \u001b[38;5;241m=\u001b[39m sitk\u001b[38;5;241m.\u001b[39mImageRegistrationMethod()\n\u001b[0;32m----> 2\u001b[0m \u001b[43mregistration\u001b[49m\u001b[38;5;241;43m.\u001b[39;49m\u001b[43mMetricSamplingStrategy\u001b[49m\n",
      "\u001b[0;31mAttributeError\u001b[0m: 'ImageRegistrationMethod' object has no attribute 'MetricSamplingStrategy'"
     ]
    }
   ],
   "source": [
    "registration = sitk.ImageRegistrationMethod()\n",
    "registration.sampl"
   ]
  },
  {
   "cell_type": "code",
   "execution_count": null,
   "metadata": {},
   "outputs": [
    {
     "name": "stdout",
     "output_type": "stream",
     "text": [
      "(256, 256, 187)\n",
      "(256, 256, 174)\n"
     ]
    }
   ],
   "source": [
    "print(moving_image.GetSize())\n",
    "print(moving_resampled.GetSize())"
   ]
  },
  {
   "cell_type": "code",
   "execution_count": null,
   "metadata": {},
   "outputs": [
    {
     "data": {
      "application/vnd.jupyter.widget-view+json": {
       "model_id": "019e1ae0f10649bd933a913a4c2d723d",
       "version_major": 2,
       "version_minor": 0
      },
      "text/plain": [
       "interactive(children=(IntSlider(value=5, description='x', max=10), IntSlider(value=50, description='y', step=5…"
      ]
     },
     "metadata": {},
     "output_type": "display_data"
    },
    {
     "data": {
      "text/plain": [
       "<function __main__.g(x, y)>"
      ]
     },
     "execution_count": 3,
     "metadata": {},
     "output_type": "execute_result"
    }
   ],
   "source": [
    "def g(x, y):\n",
    "    print(f\"x = {x}  and y = {y}\")\n",
    "interact(g, x=(0, 10, 1), y=(0, 100, 5))"
   ]
  }
 ],
 "metadata": {
  "kernelspec": {
   "display_name": "czfy310",
   "language": "python",
   "name": "python3"
  },
  "language_info": {
   "codemirror_mode": {
    "name": "ipython",
    "version": 3
   },
   "file_extension": ".py",
   "mimetype": "text/x-python",
   "name": "python",
   "nbconvert_exporter": "python",
   "pygments_lexer": "ipython3",
   "version": "3.10.14"
  }
 },
 "nbformat": 4,
 "nbformat_minor": 2
}
