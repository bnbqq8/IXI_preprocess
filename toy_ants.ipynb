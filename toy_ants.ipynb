{
 "cells": [
  {
   "cell_type": "code",
   "execution_count": 1,
   "metadata": {},
   "outputs": [],
   "source": [
    "import ants\n",
    "T1_path = \"../IXI_dataset/IXI_registrated/IXI230-IOP-0869/T1.nii.gz\"\n",
    "T2_path = \"../IXI_dataset/IXI_registrated/IXI230-IOP-0869/T2.nii.gz\"\n",
    "moving_image = ants.image_read(T1_path)\n",
    "fixed_image = ants.image_read(T2_path)"
   ]
  },
  {
   "cell_type": "code",
   "execution_count": 2,
   "metadata": {},
   "outputs": [
    {
     "name": "stdout",
     "output_type": "stream",
     "text": [
      "ANTsImage (AIL)\n",
      "\t Pixel Type : float (float32)\n",
      "\t Components : 1\n",
      "\t Dimensions : (256, 256, 187)\n",
      "\t Spacing    : (0.9375, 0.9375, 0.9375)\n",
      "\t Origin     : (84.334, -136.651, -94.5196)\n",
      "\t Direction  : [ 2.710e-02 -2.480e-02 -9.993e-01  9.996e-01  5.000e-04  2.710e-02\n",
      "  2.000e-04  9.997e-01 -2.480e-02]\n",
      "\n"
     ]
    }
   ],
   "source": [
    "print(moving_image)"
   ]
  },
  {
   "cell_type": "code",
   "execution_count": 3,
   "metadata": {},
   "outputs": [
    {
     "name": "stdout",
     "output_type": "stream",
     "text": [
      "ANTsImage (RPI)\n",
      "\t Pixel Type : float (float32)\n",
      "\t Components : 1\n",
      "\t Dimensions : (256, 256, 174)\n",
      "\t Spacing    : (0.9375, 0.9375, 0.9375)\n",
      "\t Origin     : (-119.531, 102.3625, -33.7259)\n",
      "\t Direction  : [ 1.      0.      0.      0.     -0.9972 -0.0753  0.     -0.0753  0.9972]\n",
      "\n"
     ]
    }
   ],
   "source": [
    "print(fixed_image)"
   ]
  },
  {
   "cell_type": "code",
   "execution_count": 4,
   "metadata": {},
   "outputs": [
    {
     "name": "stdout",
     "output_type": "stream",
     "text": [
      "{'warpedmovout': ANTsImage (RPI)\n",
      "\t Pixel Type : float (float32)\n",
      "\t Components : 1\n",
      "\t Dimensions : (256, 256, 174)\n",
      "\t Spacing    : (0.9375, 0.9375, 0.9375)\n",
      "\t Origin     : (-119.531, 102.3625, -33.7259)\n",
      "\t Direction  : [ 1.      0.      0.      0.     -0.9972 -0.0753  0.     -0.0753  0.9972]\n",
      ", 'warpedfixout': ANTsImage (AIL)\n",
      "\t Pixel Type : float (float32)\n",
      "\t Components : 1\n",
      "\t Dimensions : (256, 256, 187)\n",
      "\t Spacing    : (0.9375, 0.9375, 0.9375)\n",
      "\t Origin     : (84.334, -136.651, -94.5196)\n",
      "\t Direction  : [ 2.710e-02 -2.480e-02 -9.993e-01  9.996e-01  5.000e-04  2.710e-02\n",
      "  2.000e-04  9.997e-01 -2.480e-02]\n",
      ", 'fwdtransforms': ['/tmp/tmp54ivpybf0GenericAffine.mat'], 'invtransforms': ['/tmp/tmp54ivpybf0GenericAffine.mat']}\n"
     ]
    }
   ],
   "source": [
    "mytx = ants.registration(fixed=fixed_image , moving=moving_image, type_of_transform='Rigid',initial_transform=\"identity\" )\n",
    "print(mytx)"
   ]
  },
  {
   "cell_type": "code",
   "execution_count": 5,
   "metadata": {},
   "outputs": [],
   "source": [
    "mytx[\"warpedmovout\"].to_filename(\"warped_T1.nii.gz\")"
   ]
  }
 ],
 "metadata": {
  "kernelspec": {
   "display_name": "czfy310",
   "language": "python",
   "name": "python3"
  },
  "language_info": {
   "codemirror_mode": {
    "name": "ipython",
    "version": 3
   },
   "file_extension": ".py",
   "mimetype": "text/x-python",
   "name": "python",
   "nbconvert_exporter": "python",
   "pygments_lexer": "ipython3",
   "version": "3.10.14"
  }
 },
 "nbformat": 4,
 "nbformat_minor": 2
}
