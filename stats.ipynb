{
 "cells": [
  {
   "cell_type": "code",
   "execution_count": 2,
   "metadata": {},
   "outputs": [
    {
     "name": "stdout",
     "output_type": "stream",
     "text": [
      "Number of subjects in PD:  578\n",
      "Number of subjects in T1:  581\n",
      "Number of subjects in T2:  578\n"
     ]
    }
   ],
   "source": [
    "from pathlib import Path\n",
    "\n",
    "root_dir = Path(\"../IXI_dataset/IXI_raw/\")\n",
    "seqs = [\"T1\", \"T2\", \"PD\"]\n",
    "\n",
    "subjects_dict = {}\n",
    "\n",
    "for seq_path in root_dir.iterdir():\n",
    "\n",
    "    if not seq_path.is_dir():\n",
    "        continue\n",
    "    seq_name = seq_path.name.split(\"-\")[-1]\n",
    "    # print(f\"Sequence: {seq_name}\")\n",
    "\n",
    "    if seq_name not in seqs:\n",
    "        continue\n",
    "\n",
    "    print(f\"Number of subjects in {seq_name}: \", len(list(seq_path.iterdir())))\n",
    "    subjects_dict[seq_name] = [\n",
    "        i.name.split(f\"{seq_name}.nii.gz\")[0] for i in list(seq_path.iterdir())\n",
    "    ]"
   ]
  },
  {
   "cell_type": "code",
   "execution_count": 2,
   "metadata": {},
   "outputs": [
    {
     "name": "stdout",
     "output_type": "stream",
     "text": [
      "T1-T2: {'IXI116-Guys-0739-', 'IXI182-Guys-0792-', 'IXI309-IOP-0897-', 'IXI500-Guys-1017-'}\n",
      "T2-T1: {'IXI580-IOP-1157-'}\n"
     ]
    }
   ],
   "source": [
    "print(f\"T1-T2: {set(subjects_dict['T1']) - set(subjects_dict['T2'])}\")\n",
    "print(f\"T2-T1: {set(subjects_dict['T2']) - set(subjects_dict['T1'])}\")"
   ]
  },
  {
   "cell_type": "code",
   "execution_count": 3,
   "metadata": {},
   "outputs": [
    {
     "name": "stdout",
     "output_type": "stream",
     "text": [
      "T2-PD: set()\n"
     ]
    }
   ],
   "source": [
    "print(f\"T2-PD: {set(subjects_dict['T2']) - set(subjects_dict['PD'])}\")"
   ]
  },
  {
   "cell_type": "code",
   "execution_count": 4,
   "metadata": {},
   "outputs": [
    {
     "name": "stdout",
     "output_type": "stream",
     "text": [
      "577\n"
     ]
    }
   ],
   "source": [
    "print(len(set(subjects_dict['T1'])&set(subjects_dict['T2'])&set(subjects_dict['PD'])))"
   ]
  },
  {
   "cell_type": "markdown",
   "metadata": {},
   "source": [
    "T1 & PD have the same subjects\n",
    "T1, T2, PD share 577 same subjects\n",
    "\n",
    "below shows the stats about spacing"
   ]
  },
  {
   "cell_type": "code",
   "execution_count": 18,
   "metadata": {},
   "outputs": [
    {
     "name": "stdout",
     "output_type": "stream",
     "text": [
      "tensor(0.9375, dtype=torch.float64)\n"
     ]
    }
   ],
   "source": [
    "# test for loader\n",
    "from monai.transforms import LoadImage\n",
    "from monai.data.utils import affine_to_spacing\n",
    "loader = LoadImage()\n",
    "img = loader(root_dir/\"IXI-T1\" / \"IXI517-IOP-1144-T1.nii.gz\")\n",
    "print(affine_to_spacing(img.affine)[0])\n"
   ]
  },
  {
   "cell_type": "code",
   "execution_count": 24,
   "metadata": {},
   "outputs": [
    {
     "name": "stdout",
     "output_type": "stream",
     "text": [
      "Spacing for T2 subject ../IXI_dataset/IXI_raw/IXI-T2/IXI014-HH-1236-T2.nii.gz: (0.8984375204972158, 4.977778057095752)\n"
     ]
    },
    {
     "data": {
      "image/png": "[encoded data removed]",
      "text/plain": [
       "<Figure size 1000x1000 with 1 Axes>"
      ]
     },
     "metadata": {},
     "output_type": "display_data"
    }
   ],
   "source": [
    "import random\n",
    "from monai.transforms import LoadImage\n",
    "from monai.data.utils import affine_to_spacing\n",
    "import matplotlib.pyplot as plt\n",
    "\n",
    "loader = LoadImage()\n",
    "\n",
    "def get_spacing(subject):\n",
    "    _img = loader(subject)\n",
    "    _spacing = affine_to_spacing(_img.affine)\n",
    "    return _spacing[0].item(),_spacing[-1].item()\n",
    "\n",
    "xy_spacings = {\"T1\": [], \"T2\": []}\n",
    "z_spacings = {\"T1\": [], \"T2\": []}\n",
    "\n",
    "\n",
    "for seq in [\"T1\", \"T2\"]:\n",
    "    for subject in (root_dir/f\"IXI-{seq}\").iterdir():\n",
    "\n",
    "        xy_spacing,z_spacing = get_spacing(subject)\n",
    "        if z_spacing > 2.0:\n",
    "            print(f\"Spacing for {seq} subject {subject}: {xy_spacing,z_spacing}\")\n",
    "            continue\n",
    "        xy_spacings[seq].append(xy_spacing)\n",
    "        z_spacings[seq].append(z_spacing)\n",
    "        # print(f\"Spacing for {seq} subject {subject}: {spacing}\")\n",
    "    # subjects_dict[seq] = [f\"{seq}_{i}\" for i in range(10)]\n",
    "\n",
    "\n",
    "# 创建散点图\n",
    "plt.figure(figsize=(10, 10))\n",
    "plt.scatter(xy_spacings[\"T1\"], z_spacings[\"T1\"], label=\"T1\",color=\"red\",alpha=0.5)\n",
    "plt.scatter(xy_spacings[\"T2\"], z_spacings[\"T2\"], label=\"T2\",color=\"blue\",marker=\"x\",alpha=0.5)\n",
    "plt.xlabel(\"xy_spacing\")\n",
    "plt.ylabel(\"z_spacing\")\n",
    "plt.legend()\n",
    "plt.show()"
   ]
  },
  {
   "cell_type": "markdown",
   "metadata": {},
   "source": [
    "Exclude outier: Spacing for T2 subject ../IXI_dataset/IXI_raw/IXI-T2/IXI014-HH-1236-T2.nii.gz: (0.8984375204972158, 4.977778057095752)\n",
    "T1, T2, PD share 576 same subjects"
   ]
  },
  {
   "cell_type": "markdown",
   "metadata": {},
   "source": [
    "Inspect affine mattrix between T2 & PD"
   ]
  },
  {
   "cell_type": "code",
   "execution_count": 25,
   "metadata": {},
   "outputs": [
    {
     "name": "stdout",
     "output_type": "stream",
     "text": [
      "Affine matrix for T2 and PD subject ../IXI_dataset/IXI_raw/IXI-T2/IXI014-HH-1236-T2.nii.gz is not the same.\n",
      "tensor([[-8.9231e-01, -8.0259e-02, -3.7327e-01,  1.2928e+02],\n",
      "        [-8.5052e-02,  8.9213e-01,  3.5280e-01, -9.8736e+01],\n",
      "        [-6.1210e-02, -6.9620e-02,  4.9512e+00, -2.7691e+01],\n",
      "        [ 0.0000e+00,  0.0000e+00,  0.0000e+00,  1.0000e+00]],\n",
      "       dtype=torch.float64)\n",
      "tensor([[-8.9231e-01, -8.0259e-02, -3.5994e-01,  1.2928e+02],\n",
      "        [-8.5052e-02,  8.9213e-01,  3.4020e-01, -9.8736e+01],\n",
      "        [-6.1210e-02, -6.9620e-02,  4.7744e+00, -2.7691e+01],\n",
      "        [ 0.0000e+00,  0.0000e+00,  0.0000e+00,  1.0000e+00]],\n",
      "       dtype=torch.float64)\n"
     ]
    }
   ],
   "source": [
    "def get_affine_matrix(subject):\n",
    "    _img = loader(subject)\n",
    "    return _img.affine\n",
    "\n",
    "eps = 1e-6\n",
    "\n",
    "for subject in (root_dir/f\"IXI-T2\").iterdir():\n",
    "    affine_T2 = get_affine_matrix(subject)\n",
    "    subject_PD = root_dir/f\"IXI-PD\"/f\"{subject.name.split('T2.nii.gz')[0]}PD.nii.gz\"\n",
    "    affine_PD = get_affine_matrix(subject_PD)\n",
    "    if (affine_T2-affine_PD).sum()>eps:\n",
    "        print(f\"Affine matrix for T2 and PD subject {subject} is not the same.\")\n",
    "        print(affine_T2)\n",
    "        print(affine_PD)"
   ]
  }
 ],
 "metadata": {
  "kernelspec": {
   "display_name": "czfy310",
   "language": "python",
   "name": "python3"
  },
  "language_info": {
   "codemirror_mode": {
    "name": "ipython",
    "version": 3
   },
   "file_extension": ".py",
   "mimetype": "text/x-python",
   "name": "python",
   "nbconvert_exporter": "python",
   "pygments_lexer": "ipython3",
   "version": "3.10.14"
  }
 },
 "nbformat": 4,
 "nbformat_minor": 2
}
